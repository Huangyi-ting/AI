{
  "nbformat": 4,
  "nbformat_minor": 0,
  "metadata": {
    "colab": {
      "provenance": []
    },
    "kernelspec": {
      "name": "python3",
      "display_name": "Python 3"
    },
    "language_info": {
      "name": "python"
    }
  },
  "cells": [
    {
      "cell_type": "code",
      "execution_count": 2,
      "metadata": {
        "colab": {
          "base_uri": "https://localhost:8080/"
        },
        "id": "PhFZhWZRJHej",
        "outputId": "554a8727-da76-4673-a5ab-cef1532eb5fc"
      },
      "outputs": [
        {
          "output_type": "stream",
          "name": "stdout",
          "text": [
            "(1000, 10)\n",
            "[0.79690219 0.20081327 0.99970682 0.25807845 0.88121184 0.34061295\n",
            " 0.71945128 0.17531709 0.89530732 0.56768856]\n",
            "(1000, 1)\n",
            "[0]\n",
            "Epoch 1/10\n",
            "32/32 [==============================] - 1s 5ms/step - loss: 0.6964 - accuracy: 0.5000\n",
            "Epoch 2/10\n",
            "32/32 [==============================] - 0s 6ms/step - loss: 0.6950 - accuracy: 0.4920\n",
            "Epoch 3/10\n",
            "32/32 [==============================] - 0s 4ms/step - loss: 0.6941 - accuracy: 0.5070\n",
            "Epoch 4/10\n",
            "32/32 [==============================] - 0s 10ms/step - loss: 0.6933 - accuracy: 0.5150\n",
            "Epoch 5/10\n",
            "32/32 [==============================] - 0s 3ms/step - loss: 0.6926 - accuracy: 0.5140\n",
            "Epoch 6/10\n",
            "32/32 [==============================] - 0s 3ms/step - loss: 0.6921 - accuracy: 0.5290\n",
            "Epoch 7/10\n",
            "32/32 [==============================] - 0s 4ms/step - loss: 0.6919 - accuracy: 0.5350\n",
            "Epoch 8/10\n",
            "32/32 [==============================] - 0s 3ms/step - loss: 0.6909 - accuracy: 0.5380\n",
            "Epoch 9/10\n",
            "32/32 [==============================] - 0s 3ms/step - loss: 0.6905 - accuracy: 0.5360\n",
            "Epoch 10/10\n",
            "32/32 [==============================] - 0s 4ms/step - loss: 0.6903 - accuracy: 0.5400\n",
            "32/32 [==============================] - 0s 2ms/step - loss: 0.6890 - accuracy: 0.5510\n",
            "0.5509999990463257\n"
          ]
        }
      ],
      "source": [
        "from tensorflow import keras\n",
        "from keras.models import Sequential\n",
        "from keras.layers import Dense\n",
        "\n",
        "import numpy as np\n",
        "data = np.random.random((1000, 10))\n",
        "labels = np.random.randint(2, size=(1000, 1))\n",
        "print(np.shape(data))\n",
        "print(data[0])\n",
        "print(np.shape(labels))\n",
        "print(labels[0])\n",
        "\n",
        "model = Sequential()\n",
        "model.add(Dense(32, activation='relu', input_dim=10))\n",
        "model.add(Dense(1, activation='sigmoid'))\n",
        "model.compile(optimizer='rmsprop', loss='binary_crossentropy', metrics=['accuracy'])\n",
        "\n",
        "model.fit(data, labels, epochs=10, batch_size=32)\n",
        "\n",
        "score=model.evaluate(data, labels)\n",
        "print(score[1])"
      ]
    }
  ]
}