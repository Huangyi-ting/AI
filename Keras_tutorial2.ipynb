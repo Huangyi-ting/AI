{
  "nbformat": 4,
  "nbformat_minor": 0,
  "metadata": {
    "colab": {
      "provenance": []
    },
    "kernelspec": {
      "name": "python3",
      "display_name": "Python 3"
    },
    "language_info": {
      "name": "python"
    },
    "accelerator": "GPU",
    "gpuClass": "standard"
  },
  "cells": [
    {
      "cell_type": "code",
      "execution_count": 2,
      "metadata": {
        "colab": {
          "base_uri": "https://localhost:8080/"
        },
        "id": "UgMyhlGyKw-P",
        "outputId": "7d8f140a-7ae2-441a-8643-ba37a648f9b4"
      },
      "outputs": [
        {
          "output_type": "stream",
          "name": "stdout",
          "text": [
            "Epoch 1/10\n",
            "32/32 [==============================] - 1s 3ms/step - loss: 501.2304 - accuracy: 0.0850\n",
            "Epoch 2/10\n",
            "32/32 [==============================] - 0s 3ms/step - loss: 1577.1235 - accuracy: 0.0940\n",
            "Epoch 3/10\n",
            "32/32 [==============================] - 0s 3ms/step - loss: 2923.7646 - accuracy: 0.0750\n",
            "Epoch 4/10\n",
            "32/32 [==============================] - 0s 4ms/step - loss: 4203.1792 - accuracy: 0.0750\n",
            "Epoch 5/10\n",
            "32/32 [==============================] - 0s 3ms/step - loss: 5695.3682 - accuracy: 0.0870\n",
            "Epoch 6/10\n",
            "32/32 [==============================] - 0s 3ms/step - loss: 7113.6240 - accuracy: 0.0890\n",
            "Epoch 7/10\n",
            "32/32 [==============================] - 0s 3ms/step - loss: 8694.1260 - accuracy: 0.0760\n",
            "Epoch 8/10\n",
            "32/32 [==============================] - 0s 4ms/step - loss: 9980.2002 - accuracy: 0.0920\n",
            "Epoch 9/10\n",
            "32/32 [==============================] - 0s 4ms/step - loss: 11539.8643 - accuracy: 0.0950\n",
            "Epoch 10/10\n",
            "32/32 [==============================] - 0s 3ms/step - loss: 13201.0020 - accuracy: 0.1000\n",
            "32/32 [==============================] - 0s 2ms/step - loss: 11793.9658 - accuracy: 0.0890\n",
            "0.08900000154972076\n"
          ]
        }
      ],
      "source": [
        "from tensorflow import keras\n",
        "from keras.models import Sequential\n",
        "from keras.layers import Dense, Dropout\n",
        " \n",
        "model = Sequential()\n",
        "model.add(Dense(512, activation='relu', input_dim=784))\n",
        "model.add(Dropout(0.2))\n",
        "model.add(Dense(10, activation='softmax'))\n",
        "model.compile(optimizer='adam', loss='categorical_crossentropy', metrics=['accuracy'])\n",
        " \n",
        "import numpy as np\n",
        "data = np.random.random((1000, 784)) \n",
        "labels = np.random.randint(10, size=(1000, 10))\n",
        " \n",
        "model.fit(data, labels, epochs=10, batch_size=32)\n",
        "\n",
        "score=model.evaluate(data, labels)\n",
        "print(score[1])"
      ]
    }
  ]
}